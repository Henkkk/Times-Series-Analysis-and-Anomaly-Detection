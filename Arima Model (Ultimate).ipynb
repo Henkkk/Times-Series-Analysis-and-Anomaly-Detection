{
 "cells": [
  {
   "cell_type": "code",
   "execution_count": 1,
   "metadata": {},
   "outputs": [],
   "source": [
    "import numpy as np\n",
    "import pandas as pd\n",
    "import os \n",
    "\n",
    "# Import visualization modules\n",
    "import matplotlib.pyplot as plt\n",
    "import seaborn as sns\n",
    "%matplotlib inline"
   ]
  },
  {
   "cell_type": "code",
   "execution_count": 2,
   "metadata": {},
   "outputs": [],
   "source": [
    "df = pd.read_csv('df.csv',parse_dates=['Timestamp'], infer_datetime_format=True)\n",
    "# bt['Timestamp']=pd.to_datetime(df['Timestamp'])"
   ]
  },
  {
   "cell_type": "code",
   "execution_count": 3,
   "metadata": {},
   "outputs": [
    {
     "data": {
      "text/html": [
       "<div>\n",
       "<style scoped>\n",
       "    .dataframe tbody tr th:only-of-type {\n",
       "        vertical-align: middle;\n",
       "    }\n",
       "\n",
       "    .dataframe tbody tr th {\n",
       "        vertical-align: top;\n",
       "    }\n",
       "\n",
       "    .dataframe thead th {\n",
       "        text-align: right;\n",
       "    }\n",
       "</style>\n",
       "<table border=\"1\" class=\"dataframe\">\n",
       "  <thead>\n",
       "    <tr style=\"text-align: right;\">\n",
       "      <th></th>\n",
       "      <th>Unnamed: 0</th>\n",
       "      <th>Timestamp</th>\n",
       "      <th>OutboundUtilzation (%)</th>\n",
       "    </tr>\n",
       "  </thead>\n",
       "  <tbody>\n",
       "    <tr>\n",
       "      <th>0</th>\n",
       "      <td>0</td>\n",
       "      <td>2017-10-10 07:01:36</td>\n",
       "      <td>96.2442</td>\n",
       "    </tr>\n",
       "    <tr>\n",
       "      <th>1</th>\n",
       "      <td>1</td>\n",
       "      <td>2017-10-10 07:21:36</td>\n",
       "      <td>99.1131</td>\n",
       "    </tr>\n",
       "    <tr>\n",
       "      <th>2</th>\n",
       "      <td>2</td>\n",
       "      <td>2017-10-10 07:26:36</td>\n",
       "      <td>97.2892</td>\n",
       "    </tr>\n",
       "    <tr>\n",
       "      <th>3</th>\n",
       "      <td>3</td>\n",
       "      <td>2017-10-10 07:31:36</td>\n",
       "      <td>98.0286</td>\n",
       "    </tr>\n",
       "    <tr>\n",
       "      <th>4</th>\n",
       "      <td>4</td>\n",
       "      <td>2017-10-10 07:36:36</td>\n",
       "      <td>99.5263</td>\n",
       "    </tr>\n",
       "    <tr>\n",
       "      <th>...</th>\n",
       "      <td>...</td>\n",
       "      <td>...</td>\n",
       "      <td>...</td>\n",
       "    </tr>\n",
       "    <tr>\n",
       "      <th>46321</th>\n",
       "      <td>20690</td>\n",
       "      <td>2018-03-25 23:43:03</td>\n",
       "      <td>65.8425</td>\n",
       "    </tr>\n",
       "    <tr>\n",
       "      <th>46322</th>\n",
       "      <td>20691</td>\n",
       "      <td>2018-03-25 23:48:03</td>\n",
       "      <td>56.8811</td>\n",
       "    </tr>\n",
       "    <tr>\n",
       "      <th>46323</th>\n",
       "      <td>20692</td>\n",
       "      <td>2018-03-25 23:53:03</td>\n",
       "      <td>43.6352</td>\n",
       "    </tr>\n",
       "    <tr>\n",
       "      <th>46324</th>\n",
       "      <td>20693</td>\n",
       "      <td>2018-03-25 23:58:03</td>\n",
       "      <td>48.9415</td>\n",
       "    </tr>\n",
       "    <tr>\n",
       "      <th>46325</th>\n",
       "      <td>20694</td>\n",
       "      <td>2018-03-26 00:03:03</td>\n",
       "      <td>46.5513</td>\n",
       "    </tr>\n",
       "  </tbody>\n",
       "</table>\n",
       "<p>46326 rows × 3 columns</p>\n",
       "</div>"
      ],
      "text/plain": [
       "       Unnamed: 0           Timestamp  OutboundUtilzation (%)\n",
       "0               0 2017-10-10 07:01:36                 96.2442\n",
       "1               1 2017-10-10 07:21:36                 99.1131\n",
       "2               2 2017-10-10 07:26:36                 97.2892\n",
       "3               3 2017-10-10 07:31:36                 98.0286\n",
       "4               4 2017-10-10 07:36:36                 99.5263\n",
       "...           ...                 ...                     ...\n",
       "46321       20690 2018-03-25 23:43:03                 65.8425\n",
       "46322       20691 2018-03-25 23:48:03                 56.8811\n",
       "46323       20692 2018-03-25 23:53:03                 43.6352\n",
       "46324       20693 2018-03-25 23:58:03                 48.9415\n",
       "46325       20694 2018-03-26 00:03:03                 46.5513\n",
       "\n",
       "[46326 rows x 3 columns]"
      ]
     },
     "execution_count": 3,
     "metadata": {},
     "output_type": "execute_result"
    }
   ],
   "source": [
    "df"
   ]
  },
  {
   "cell_type": "code",
   "execution_count": 4,
   "metadata": {},
   "outputs": [],
   "source": [
    "df.drop(['Unnamed: 0'],axis=1,inplace=True)"
   ]
  },
  {
   "cell_type": "code",
   "execution_count": 5,
   "metadata": {},
   "outputs": [
    {
     "data": {
      "text/html": [
       "<div>\n",
       "<style scoped>\n",
       "    .dataframe tbody tr th:only-of-type {\n",
       "        vertical-align: middle;\n",
       "    }\n",
       "\n",
       "    .dataframe tbody tr th {\n",
       "        vertical-align: top;\n",
       "    }\n",
       "\n",
       "    .dataframe thead th {\n",
       "        text-align: right;\n",
       "    }\n",
       "</style>\n",
       "<table border=\"1\" class=\"dataframe\">\n",
       "  <thead>\n",
       "    <tr style=\"text-align: right;\">\n",
       "      <th></th>\n",
       "      <th>Timestamp</th>\n",
       "      <th>OutboundUtilzation (%)</th>\n",
       "    </tr>\n",
       "  </thead>\n",
       "  <tbody>\n",
       "    <tr>\n",
       "      <th>0</th>\n",
       "      <td>2017-10-10 07:01:36</td>\n",
       "      <td>96.2442</td>\n",
       "    </tr>\n",
       "    <tr>\n",
       "      <th>1</th>\n",
       "      <td>2017-10-10 07:21:36</td>\n",
       "      <td>99.1131</td>\n",
       "    </tr>\n",
       "    <tr>\n",
       "      <th>2</th>\n",
       "      <td>2017-10-10 07:26:36</td>\n",
       "      <td>97.2892</td>\n",
       "    </tr>\n",
       "    <tr>\n",
       "      <th>3</th>\n",
       "      <td>2017-10-10 07:31:36</td>\n",
       "      <td>98.0286</td>\n",
       "    </tr>\n",
       "    <tr>\n",
       "      <th>4</th>\n",
       "      <td>2017-10-10 07:36:36</td>\n",
       "      <td>99.5263</td>\n",
       "    </tr>\n",
       "    <tr>\n",
       "      <th>...</th>\n",
       "      <td>...</td>\n",
       "      <td>...</td>\n",
       "    </tr>\n",
       "    <tr>\n",
       "      <th>46321</th>\n",
       "      <td>2018-03-25 23:43:03</td>\n",
       "      <td>65.8425</td>\n",
       "    </tr>\n",
       "    <tr>\n",
       "      <th>46322</th>\n",
       "      <td>2018-03-25 23:48:03</td>\n",
       "      <td>56.8811</td>\n",
       "    </tr>\n",
       "    <tr>\n",
       "      <th>46323</th>\n",
       "      <td>2018-03-25 23:53:03</td>\n",
       "      <td>43.6352</td>\n",
       "    </tr>\n",
       "    <tr>\n",
       "      <th>46324</th>\n",
       "      <td>2018-03-25 23:58:03</td>\n",
       "      <td>48.9415</td>\n",
       "    </tr>\n",
       "    <tr>\n",
       "      <th>46325</th>\n",
       "      <td>2018-03-26 00:03:03</td>\n",
       "      <td>46.5513</td>\n",
       "    </tr>\n",
       "  </tbody>\n",
       "</table>\n",
       "<p>46326 rows × 2 columns</p>\n",
       "</div>"
      ],
      "text/plain": [
       "                Timestamp  OutboundUtilzation (%)\n",
       "0     2017-10-10 07:01:36                 96.2442\n",
       "1     2017-10-10 07:21:36                 99.1131\n",
       "2     2017-10-10 07:26:36                 97.2892\n",
       "3     2017-10-10 07:31:36                 98.0286\n",
       "4     2017-10-10 07:36:36                 99.5263\n",
       "...                   ...                     ...\n",
       "46321 2018-03-25 23:43:03                 65.8425\n",
       "46322 2018-03-25 23:48:03                 56.8811\n",
       "46323 2018-03-25 23:53:03                 43.6352\n",
       "46324 2018-03-25 23:58:03                 48.9415\n",
       "46325 2018-03-26 00:03:03                 46.5513\n",
       "\n",
       "[46326 rows x 2 columns]"
      ]
     },
     "execution_count": 5,
     "metadata": {},
     "output_type": "execute_result"
    }
   ],
   "source": [
    "df"
   ]
  },
  {
   "cell_type": "code",
   "execution_count": 6,
   "metadata": {},
   "outputs": [],
   "source": [
    "df.set_index('Timestamp',inplace=True)"
   ]
  },
  {
   "cell_type": "code",
   "execution_count": 7,
   "metadata": {},
   "outputs": [
    {
     "data": {
      "text/html": [
       "<div>\n",
       "<style scoped>\n",
       "    .dataframe tbody tr th:only-of-type {\n",
       "        vertical-align: middle;\n",
       "    }\n",
       "\n",
       "    .dataframe tbody tr th {\n",
       "        vertical-align: top;\n",
       "    }\n",
       "\n",
       "    .dataframe thead th {\n",
       "        text-align: right;\n",
       "    }\n",
       "</style>\n",
       "<table border=\"1\" class=\"dataframe\">\n",
       "  <thead>\n",
       "    <tr style=\"text-align: right;\">\n",
       "      <th></th>\n",
       "      <th>OutboundUtilzation (%)</th>\n",
       "    </tr>\n",
       "    <tr>\n",
       "      <th>Timestamp</th>\n",
       "      <th></th>\n",
       "    </tr>\n",
       "  </thead>\n",
       "  <tbody>\n",
       "    <tr>\n",
       "      <th>2017-10-10 07:01:36</th>\n",
       "      <td>96.2442</td>\n",
       "    </tr>\n",
       "    <tr>\n",
       "      <th>2017-10-10 07:21:36</th>\n",
       "      <td>99.1131</td>\n",
       "    </tr>\n",
       "    <tr>\n",
       "      <th>2017-10-10 07:26:36</th>\n",
       "      <td>97.2892</td>\n",
       "    </tr>\n",
       "    <tr>\n",
       "      <th>2017-10-10 07:31:36</th>\n",
       "      <td>98.0286</td>\n",
       "    </tr>\n",
       "    <tr>\n",
       "      <th>2017-10-10 07:36:36</th>\n",
       "      <td>99.5263</td>\n",
       "    </tr>\n",
       "    <tr>\n",
       "      <th>...</th>\n",
       "      <td>...</td>\n",
       "    </tr>\n",
       "    <tr>\n",
       "      <th>2018-03-25 23:43:03</th>\n",
       "      <td>65.8425</td>\n",
       "    </tr>\n",
       "    <tr>\n",
       "      <th>2018-03-25 23:48:03</th>\n",
       "      <td>56.8811</td>\n",
       "    </tr>\n",
       "    <tr>\n",
       "      <th>2018-03-25 23:53:03</th>\n",
       "      <td>43.6352</td>\n",
       "    </tr>\n",
       "    <tr>\n",
       "      <th>2018-03-25 23:58:03</th>\n",
       "      <td>48.9415</td>\n",
       "    </tr>\n",
       "    <tr>\n",
       "      <th>2018-03-26 00:03:03</th>\n",
       "      <td>46.5513</td>\n",
       "    </tr>\n",
       "  </tbody>\n",
       "</table>\n",
       "<p>46326 rows × 1 columns</p>\n",
       "</div>"
      ],
      "text/plain": [
       "                     OutboundUtilzation (%)\n",
       "Timestamp                                  \n",
       "2017-10-10 07:01:36                 96.2442\n",
       "2017-10-10 07:21:36                 99.1131\n",
       "2017-10-10 07:26:36                 97.2892\n",
       "2017-10-10 07:31:36                 98.0286\n",
       "2017-10-10 07:36:36                 99.5263\n",
       "...                                     ...\n",
       "2018-03-25 23:43:03                 65.8425\n",
       "2018-03-25 23:48:03                 56.8811\n",
       "2018-03-25 23:53:03                 43.6352\n",
       "2018-03-25 23:58:03                 48.9415\n",
       "2018-03-26 00:03:03                 46.5513\n",
       "\n",
       "[46326 rows x 1 columns]"
      ]
     },
     "execution_count": 7,
     "metadata": {},
     "output_type": "execute_result"
    }
   ],
   "source": [
    "df"
   ]
  },
  {
   "cell_type": "code",
   "execution_count": 11,
   "metadata": {},
   "outputs": [
    {
     "data": {
      "text/plain": [
       "<matplotlib.axes._subplots.AxesSubplot at 0x28f1e483a00>"
      ]
     },
     "execution_count": 11,
     "metadata": {},
     "output_type": "execute_result"
    },
    {
     "data": {
      "image/png": "[encoded data removed]",
      "text/plain": [
       "<Figure size 432x288 with 1 Axes>"
      ]
     },
     "metadata": {
      "needs_background": "light"
     },
     "output_type": "display_data"
    }
   ],
   "source": [
    "sns.distplot(bt['OutboundUtilzation (%)'], hist=True, kde=True, bins=int(100/5),color = 'darkblue', \n",
    "             hist_kws={'edgecolor':'black'},\n",
    "             kde_kws={'linewidth': 4})"
   ]
  },
  {
   "cell_type": "code",
   "execution_count": 12,
   "metadata": {},
   "outputs": [
    {
     "data": {
      "text/plain": [
       "<matplotlib.axes._subplots.AxesSubplot at 0x28f248f4cd0>"
      ]
     },
     "execution_count": 12,
     "metadata": {},
     "output_type": "execute_result"
    },
    {
     "data": {
      "image/png": "[encoded data removed]",
      "text/plain": [
       "<Figure size 432x288 with 1 Axes>"
      ]
     },
     "metadata": {
      "needs_background": "light"
     },
     "output_type": "display_data"
    }
   ],
   "source": [
    "sns.boxplot(x=bt[\"OutboundUtilzation (%)\"])"
   ]
  },
  {
   "cell_type": "code",
   "execution_count": 12,
   "metadata": {},
   "outputs": [],
   "source": [
    "# most of the datas falls in between 40% to 80%"
   ]
  },
  {
   "cell_type": "markdown",
   "metadata": {},
   "source": [
    "### Group the data by hour "
   ]
  },
  {
   "cell_type": "code",
   "execution_count": 29,
   "metadata": {},
   "outputs": [],
   "source": [
    "df_res = df.resample(\"H\").mean()\n",
    "\n",
    "# bt1 = bt.reset_index()\n",
    "# bt1.groupby(pd.Grouper(key='Timestamp', freq=\"1H\")).mean()"
   ]
  },
  {
   "cell_type": "code",
   "execution_count": 9,
   "metadata": {},
   "outputs": [
    {
     "data": {
      "text/html": [
       "<div>\n",
       "<style scoped>\n",
       "    .dataframe tbody tr th:only-of-type {\n",
       "        vertical-align: middle;\n",
       "    }\n",
       "\n",
       "    .dataframe tbody tr th {\n",
       "        vertical-align: top;\n",
       "    }\n",
       "\n",
       "    .dataframe thead th {\n",
       "        text-align: right;\n",
       "    }\n",
       "</style>\n",
       "<table border=\"1\" class=\"dataframe\">\n",
       "  <thead>\n",
       "    <tr style=\"text-align: right;\">\n",
       "      <th></th>\n",
       "      <th>OutboundUtilzation (%)</th>\n",
       "    </tr>\n",
       "    <tr>\n",
       "      <th>Timestamp</th>\n",
       "      <th></th>\n",
       "    </tr>\n",
       "  </thead>\n",
       "  <tbody>\n",
       "    <tr>\n",
       "      <th>2017-10-10 07:00:00</th>\n",
       "      <td>90.397000</td>\n",
       "    </tr>\n",
       "    <tr>\n",
       "      <th>2017-10-10 08:00:00</th>\n",
       "      <td>74.493000</td>\n",
       "    </tr>\n",
       "    <tr>\n",
       "      <th>2017-10-10 09:00:00</th>\n",
       "      <td>68.930125</td>\n",
       "    </tr>\n",
       "    <tr>\n",
       "      <th>2017-10-10 10:00:00</th>\n",
       "      <td>52.874208</td>\n",
       "    </tr>\n",
       "    <tr>\n",
       "      <th>2017-10-10 11:00:00</th>\n",
       "      <td>58.498275</td>\n",
       "    </tr>\n",
       "    <tr>\n",
       "      <th>...</th>\n",
       "      <td>...</td>\n",
       "    </tr>\n",
       "    <tr>\n",
       "      <th>2018-03-25 20:00:00</th>\n",
       "      <td>30.050225</td>\n",
       "    </tr>\n",
       "    <tr>\n",
       "      <th>2018-03-25 21:00:00</th>\n",
       "      <td>11.864578</td>\n",
       "    </tr>\n",
       "    <tr>\n",
       "      <th>2018-03-25 22:00:00</th>\n",
       "      <td>24.694371</td>\n",
       "    </tr>\n",
       "    <tr>\n",
       "      <th>2018-03-25 23:00:00</th>\n",
       "      <td>59.080517</td>\n",
       "    </tr>\n",
       "    <tr>\n",
       "      <th>2018-03-26 00:00:00</th>\n",
       "      <td>46.551300</td>\n",
       "    </tr>\n",
       "  </tbody>\n",
       "</table>\n",
       "<p>4002 rows × 1 columns</p>\n",
       "</div>"
      ],
      "text/plain": [
       "                     OutboundUtilzation (%)\n",
       "Timestamp                                  \n",
       "2017-10-10 07:00:00               90.397000\n",
       "2017-10-10 08:00:00               74.493000\n",
       "2017-10-10 09:00:00               68.930125\n",
       "2017-10-10 10:00:00               52.874208\n",
       "2017-10-10 11:00:00               58.498275\n",
       "...                                     ...\n",
       "2018-03-25 20:00:00               30.050225\n",
       "2018-03-25 21:00:00               11.864578\n",
       "2018-03-25 22:00:00               24.694371\n",
       "2018-03-25 23:00:00               59.080517\n",
       "2018-03-26 00:00:00               46.551300\n",
       "\n",
       "[4002 rows x 1 columns]"
      ]
     },
     "execution_count": 9,
     "metadata": {},
     "output_type": "execute_result"
    }
   ],
   "source": [
    "df_res"
   ]
  },
  {
   "cell_type": "code",
   "execution_count": 31,
   "metadata": {},
   "outputs": [],
   "source": [
    "df_res = df_res.interpolate(limit=1)"
   ]
  },
  {
   "cell_type": "code",
   "execution_count": 34,
   "metadata": {},
   "outputs": [],
   "source": [
    "mean = df.mean()"
   ]
  },
  {
   "cell_type": "code",
   "execution_count": 35,
   "metadata": {},
   "outputs": [
    {
     "data": {
      "text/plain": [
       "OutboundUtilzation (%)    60.659431\n",
       "dtype: float64"
      ]
     },
     "execution_count": 35,
     "metadata": {},
     "output_type": "execute_result"
    }
   ],
   "source": [
    "mean"
   ]
  },
  {
   "cell_type": "code",
   "execution_count": 36,
   "metadata": {},
   "outputs": [],
   "source": [
    "df_res = df_res.fillna(value=mean)"
   ]
  },
  {
   "cell_type": "code",
   "execution_count": 37,
   "metadata": {},
   "outputs": [
    {
     "name": "stdout",
     "output_type": "stream",
     "text": [
      "<class 'pandas.core.frame.DataFrame'>\n",
      "DatetimeIndex: 4002 entries, 2017-10-10 07:00:00 to 2018-03-26 00:00:00\n",
      "Freq: H\n",
      "Data columns (total 1 columns):\n",
      " #   Column                  Non-Null Count  Dtype  \n",
      "---  ------                  --------------  -----  \n",
      " 0   OutboundUtilzation (%)  4002 non-null   float64\n",
      "dtypes: float64(1)\n",
      "memory usage: 62.5 KB\n"
     ]
    }
   ],
   "source": [
    "df_res.info()"
   ]
  },
  {
   "cell_type": "markdown",
   "metadata": {},
   "source": [
    "# Stationarity Test"
   ]
  },
  {
   "cell_type": "code",
   "execution_count": 40,
   "metadata": {},
   "outputs": [],
   "source": [
    "#STATIONARITY CHECK\n",
    "\n",
    "from statsmodels.tsa.stattools import adfuller\n",
    "def test_stationarity(timeseries):\n",
    "    \n",
    "    #Determing rolling statistics\n",
    "    #rolmean = pd.rolling_mean(timeseries, window=12)\n",
    "    rolmean = pd.Series(timeseries).rolling(window=24).mean()\n",
    "    #rolstd = pd.rolling_std(timeseries, window=12)\n",
    "    rolstd = pd.Series(timeseries).rolling(window=24).std()\n",
    "\n",
    "    #Plot rolling statistics:\n",
    "    orig = plt.plot(timeseries, color='blue',label='Original')\n",
    "    mean = plt.plot(rolmean, color='red', label='Rolling Mean')\n",
    "    std = plt.plot(rolstd, color='black', label = 'Rolling Std')\n",
    "    plt.legend(loc='best')\n",
    "    plt.title('Rolling Mean & Standard Deviation')\n",
    "    plt.show(block=False)\n",
    "    \n",
    "    #Perform Dickey-Fuller test:\n",
    "    print('Results of Dickey-Fuller Test:')\n",
    "    dftest = adfuller(timeseries, autolag='AIC')\n",
    "    dfoutput = pd.Series(dftest[0:4], index=['Test Statistic','p-value','#Lags Used','Number of Observations Used'])\n",
    "    for key,value in dftest[4].items():\n",
    "        dfoutput['Critical Value (%s)'%key] = value\n",
    "    print(dfoutput)"
   ]
  },
  {
   "cell_type": "code",
   "execution_count": 41,
   "metadata": {},
   "outputs": [
    {
     "data": {
      "image/png": "[encoded data removed]",
      "text/plain": [
       "<Figure size 432x288 with 1 Axes>"
      ]
     },
     "metadata": {
      "needs_background": "light"
     },
     "output_type": "display_data"
    },
    {
     "name": "stdout",
     "output_type": "stream",
     "text": [
      "Results of Dickey-Fuller Test:\n",
      "Test Statistic                -6.965790e+00\n",
      "p-value                        8.922486e-10\n",
      "#Lags Used                     3.100000e+01\n",
      "Number of Observations Used    3.970000e+03\n",
      "Critical Value (1%)           -3.431998e+00\n",
      "Critical Value (5%)           -2.862268e+00\n",
      "Critical Value (10%)          -2.567158e+00\n",
      "dtype: float64\n"
     ]
    }
   ],
   "source": [
    "test_stationarity(df_res['OutboundUtilzation (%)'])"
   ]
  },
  {
   "cell_type": "code",
   "execution_count": 43,
   "metadata": {},
   "outputs": [
    {
     "data": {
      "image/png": "[encoded data removed]",
      "text/plain": [
       "<Figure size 432x288 with 4 Axes>"
      ]
     },
     "metadata": {
      "needs_background": "light"
     },
     "output_type": "display_data"
    }
   ],
   "source": [
    "#DECOMPOSITION\n",
    "from statsmodels.tsa.seasonal import seasonal_decompose\n",
    "decomposition = seasonal_decompose(df_res)\n",
    "\n",
    "trend = decomposition.trend\n",
    "seasonal = decomposition.seasonal\n",
    "residual = decomposition.resid\n",
    "\n",
    "plt.subplot(411)\n",
    "plt.plot(df_res, label='Original')\n",
    "plt.legend(loc='best')\n",
    "plt.subplot(412)\n",
    "plt.plot(trend, label='Trend')\n",
    "plt.legend(loc='best')\n",
    "plt.subplot(413)\n",
    "plt.plot(seasonal,label='Seasonality')\n",
    "plt.legend(loc='best')\n",
    "plt.subplot(414)\n",
    "plt.plot(residual, label='Residuals')\n",
    "plt.legend(loc='best')\n",
    "plt.tight_layout()\n",
    "\n",
    "# bt1_decompose = residual\n",
    "# bt1_decompose.dropna(inplace=True)\n",
    "# test_stationarity(bt1_decompose)"
   ]
  },
  {
   "cell_type": "code",
   "execution_count": 44,
   "metadata": {},
   "outputs": [],
   "source": [
    "from statsmodels.tsa.arima_model import ARIMA"
   ]
  },
  {
   "cell_type": "code",
   "execution_count": 46,
   "metadata": {},
   "outputs": [
    {
     "name": "stderr",
     "output_type": "stream",
     "text": [
      "C:\\Users\\accelerate\\anaconda4\\lib\\site-packages\\statsmodels\\tsa\\stattools.py:568: FutureWarning: fft=True will become the default in a future version of statsmodels. To suppress this warning, explicitly set fft=False.\n",
      "  warnings.warn(\n"
     ]
    }
   ],
   "source": [
    "from statsmodels.tsa.stattools import acf, pacf  \n",
    "\n",
    "lag_acf = acf(df_res, nlags=30)\n",
    "lag_pacf = pacf(df_res, nlags=30, method='ols')"
   ]
  },
  {
   "cell_type": "code",
   "execution_count": 48,
   "metadata": {},
   "outputs": [
    {
     "data": {
      "text/plain": [
       "Text(0.5, 1.0, 'Autocorrelation Function')"
      ]
     },
     "execution_count": 48,
     "metadata": {},
     "output_type": "execute_result"
    },
    {
     "data": {
      "image/png": "[encoded data removed]",
      "text/plain": [
       "<Figure size 432x288 with 1 Axes>"
      ]
     },
     "metadata": {
      "needs_background": "light"
     },
     "output_type": "display_data"
    }
   ],
   "source": [
    "#Plot ACF:    \n",
    "plt.subplot(121)    \n",
    "plt.plot(lag_acf)\n",
    "plt.axhline(y=0,linestyle='--',color='gray')\n",
    "plt.axhline(y=-1.96/np.sqrt(len(df_res)),linestyle='--',color='gray')\n",
    "plt.axhline(y=1.96/np.sqrt(len(df_res)),linestyle='--',color='gray')\n",
    "plt.title('Autocorrelation Function')"
   ]
  },
  {
   "cell_type": "code",
   "execution_count": 49,
   "metadata": {},
   "outputs": [
    {
     "data": {
      "text/plain": [
       "Text(0.5, 1.0, 'Autocorrelation Function')"
      ]
     },
     "execution_count": 49,
     "metadata": {},
     "output_type": "execute_result"
    },
    {
     "data": {
      "image/png": "[encoded data removed]",
      "text/plain": [
       "<Figure size 432x288 with 1 Axes>"
      ]
     },
     "metadata": {
      "needs_background": "light"
     },
     "output_type": "display_data"
    }
   ],
   "source": [
    "#Plot PACF:    \n",
    "plt.subplot(121)    \n",
    "plt.plot(lag_pacf)\n",
    "plt.axhline(y=0,linestyle='--',color='gray')\n",
    "plt.axhline(y=-1.96/np.sqrt(len(df_res)),linestyle='--',color='gray')\n",
    "plt.axhline(y=1.96/np.sqrt(len(df_res)),linestyle='--',color='gray')\n",
    "plt.title('Autocorrelation Function')"
   ]
  },
  {
   "cell_type": "code",
   "execution_count": 50,
   "metadata": {},
   "outputs": [],
   "source": [
    "df_res_values=df_res.values\n",
    "\n",
    "X = df_res_values\n",
    "#size = int(len(X) * 0.667)\n",
    "#train, test = X[0:size], X[size:len(X)]"
   ]
  },
  {
   "cell_type": "code",
   "execution_count": 51,
   "metadata": {},
   "outputs": [],
   "source": [
    "size = int(len(X) * 0.667)"
   ]
  },
  {
   "cell_type": "code",
   "execution_count": 59,
   "metadata": {},
   "outputs": [
    {
     "data": {
      "text/plain": [
       "array([[90.397     ],\n",
       "       [74.493     ],\n",
       "       [68.930125  ],\n",
       "       ...,\n",
       "       [24.69437083],\n",
       "       [59.08051667],\n",
       "       [46.5513    ]])"
      ]
     },
     "execution_count": 59,
     "metadata": {},
     "output_type": "execute_result"
    }
   ],
   "source": [
    "X"
   ]
  },
  {
   "cell_type": "code",
   "execution_count": 53,
   "metadata": {},
   "outputs": [],
   "source": [
    "#AR Model\n",
    "#training will be 66%, test will be 33% as per our model\n",
    "from sklearn.metrics import mean_squared_error\n",
    "from statsmodels.tsa.arima_model import ARIMA\n",
    "from numpy.linalg import LinAlgError\n",
    "import warnings\n",
    "warnings.filterwarnings(\"ignore\")"
   ]
  },
  {
   "cell_type": "code",
   "execution_count": 68,
   "metadata": {},
   "outputs": [
    {
     "name": "stdout",
     "output_type": "stream",
     "text": [
      "predicted=54.749673\n",
      "predicted=60.840465\n",
      "predicted=66.326468\n",
      "predicted=66.408926\n",
      "predicted=62.802944\n",
      "predicted=58.829802\n",
      "predicted=63.653361\n",
      "predicted=63.696479\n",
      "predicted=62.751722\n",
      "predicted=54.797169\n",
      "predicted=56.217423\n",
      "predicted=42.175394\n",
      "predicted=41.422481\n",
      "predicted=39.425668\n",
      "predicted=36.793503\n",
      "predicted=32.946323\n",
      "predicted=30.065707\n",
      "predicted=30.600793\n",
      "predicted=36.835342\n",
      "predicted=33.965114\n",
      "predicted=30.349574\n",
      "predicted=34.365899\n",
      "predicted=47.144965\n",
      "predicted=46.118159\n",
      "predicted=51.551084\n",
      "predicted=54.891599\n",
      "predicted=58.299386\n",
      "predicted=59.431781\n",
      "predicted=58.862640\n",
      "predicted=57.575093\n",
      "predicted=58.393028\n",
      "predicted=57.654898\n",
      "predicted=56.404287\n",
      "predicted=52.429273\n",
      "predicted=51.814084\n",
      "predicted=45.391521\n",
      "predicted=43.529436\n",
      "predicted=40.775716\n",
      "predicted=39.140965\n",
      "predicted=37.224151\n",
      "predicted=35.465206\n",
      "predicted=35.462712\n",
      "predicted=37.686831\n",
      "predicted=37.599254\n",
      "predicted=37.640226\n",
      "predicted=39.575546\n",
      "predicted=44.983447\n",
      "predicted=46.204334\n",
      "predicted=49.664912\n",
      "predicted=51.849357\n",
      "predicted=54.067799\n",
      "predicted=55.215906\n",
      "predicted=55.430314\n",
      "predicted=55.078802\n",
      "predicted=54.973121\n",
      "predicted=54.188309\n",
      "predicted=53.056237\n",
      "predicted=50.759266\n",
      "predicted=49.621682\n",
      "predicted=46.332517\n",
      "predicted=44.622243\n",
      "predicted=42.483368\n",
      "predicted=41.200921\n",
      "predicted=39.993423\n",
      "predicted=38.981782\n",
      "predicted=38.870600\n",
      "predicted=39.716895\n",
      "predicted=40.192039\n",
      "predicted=40.939867\n",
      "predicted=42.229700\n",
      "predicted=44.896714\n",
      "predicted=46.274367\n",
      "predicted=48.472705\n",
      "predicted=49.999330\n",
      "predicted=51.483117\n",
      "predicted=52.400023\n",
      "predicted=52.766396\n",
      "predicted=52.724729\n",
      "predicted=52.486018\n",
      "predicted=51.860910\n",
      "predicted=50.966335\n",
      "predicted=49.521841\n",
      "predicted=48.439099\n",
      "predicted=46.548560\n",
      "predicted=45.224860\n",
      "predicted=43.737215\n",
      "predicted=42.743728\n",
      "predicted=41.910951\n",
      "predicted=41.299000\n",
      "predicted=41.185828\n",
      "predicted=41.551820\n",
      "predicted=42.024024\n",
      "predicted=42.740568\n",
      "predicted=43.681211\n",
      "predicted=45.188630\n",
      "predicted=46.303334\n",
      "predicted=47.723223\n",
      "predicted=48.804785\n",
      "predicted=49.810446\n",
      "predicted=50.487259\n",
      "predicted=50.824184\n",
      "predicted=50.871255\n",
      "predicted=50.673565\n",
      "predicted=50.219777\n",
      "predicted=49.557235\n",
      "predicted=48.606903\n",
      "predicted=47.737985\n",
      "predicted=46.554394\n",
      "predicted=45.585043\n",
      "predicted=44.573185\n",
      "predicted=43.834007\n",
      "predicted=43.246527\n",
      "predicted=42.852105\n",
      "predicted=42.758166\n",
      "predicted=42.942569\n",
      "predicted=43.304177\n",
      "predicted=43.852595\n",
      "predicted=44.536882\n",
      "predicted=45.473016\n",
      "predicted=46.298225\n",
      "predicted=47.235182\n",
      "predicted=47.999987\n",
      "predicted=48.687392\n",
      "predicted=49.171781\n",
      "predicted=49.438265\n",
      "predicted=49.500150\n",
      "predicted=49.362129\n",
      "predicted=49.044117\n",
      "predicted=48.569817\n",
      "predicted=47.929497\n",
      "predicted=47.280195\n",
      "predicted=46.500058\n",
      "predicted=45.805706\n",
      "predicted=45.115899\n",
      "predicted=44.580775\n",
      "predicted=44.165382\n",
      "predicted=43.899218\n",
      "predicted=43.825504\n",
      "predicted=43.930662\n",
      "predicted=44.187116\n",
      "predicted=44.578990\n",
      "predicted=45.067903\n",
      "predicted=45.681437\n",
      "predicted=46.272037\n",
      "predicted=46.901709\n",
      "predicted=47.440022\n",
      "predicted=47.912810\n",
      "predicted=48.255026\n",
      "predicted=48.453379\n",
      "predicted=48.508072\n",
      "predicted=48.416430\n",
      "predicted=48.196538\n",
      "predicted=47.863003\n",
      "predicted=47.425915\n",
      "predicted=46.957186\n",
      "predicted=46.428560\n",
      "predicted=45.936361\n",
      "predicted=45.462476\n",
      "predicted=45.080818\n",
      "predicted=44.787477\n",
      "predicted=44.602933\n",
      "predicted=44.546282\n",
      "predicted=44.610694\n",
      "predicted=44.787480\n",
      "predicted=45.060465\n",
      "predicted=45.404603\n",
      "predicted=45.817873\n",
      "predicted=46.234083\n"
     ]
    }
   ],
   "source": [
    "history = [x for x in X]\n",
    "predictions = list()\n",
    "#test.reset_index()\n",
    "for t in range(168):\n",
    "    try:\n",
    "        model = ARIMA(history, order=(24,1,2))\n",
    "        model_fit = model.fit(disp=0)\n",
    "        output = model_fit.forecast()\n",
    "        yhat = output[0]\n",
    "        predictions.append(yhat)\n",
    "        #obs = test[t]\n",
    "        history.append(yhat)\n",
    "    except (ValueError, LinAlgError):\n",
    "        pass\n",
    "    print('predicted=%f' % (yhat))\n",
    "#error = mean_squared_error(test, predictions)\n",
    "#rmse = mean_squared_error(test, predictions)**0.5\n",
    "#print('Test MSE: %.3f' % rmse)\n",
    "\n",
    "\n",
    "#from math import sqrt\n",
    "#rms = sqrt(mean_squared_error(test, predictions))"
   ]
  },
  {
   "cell_type": "code",
   "execution_count": 72,
   "metadata": {},
   "outputs": [
    {
     "data": {
      "text/plain": [
       "[array([54.74967277]),\n",
       " array([60.84046467]),\n",
       " array([66.32646768]),\n",
       " array([66.40892594]),\n",
       " array([62.80294384]),\n",
       " array([58.82980241]),\n",
       " array([63.6533611]),\n",
       " array([63.69647877]),\n",
       " array([62.75172208]),\n",
       " array([54.79716869]),\n",
       " array([56.21742308]),\n",
       " array([42.17539375]),\n",
       " array([41.42248091]),\n",
       " array([39.42566807]),\n",
       " array([36.79350335]),\n",
       " array([32.94632257]),\n",
       " array([30.06570707]),\n",
       " array([30.60079331]),\n",
       " array([36.83534229]),\n",
       " array([33.96511434]),\n",
       " array([30.34957358]),\n",
       " array([34.365899]),\n",
       " array([47.14496473]),\n",
       " array([46.11815903]),\n",
       " array([51.5510843]),\n",
       " array([54.89159906]),\n",
       " array([58.29938647]),\n",
       " array([59.43178058]),\n",
       " array([58.86264016]),\n",
       " array([57.57509291]),\n",
       " array([58.39302833]),\n",
       " array([57.6548981]),\n",
       " array([56.40428686]),\n",
       " array([52.42927301]),\n",
       " array([51.8140845]),\n",
       " array([45.39152134]),\n",
       " array([43.52943573]),\n",
       " array([40.77571606]),\n",
       " array([39.14096479]),\n",
       " array([37.22415055]),\n",
       " array([35.46520588]),\n",
       " array([35.46271241]),\n",
       " array([37.6868306]),\n",
       " array([37.599254]),\n",
       " array([37.64022587]),\n",
       " array([39.5755461]),\n",
       " array([44.98344727]),\n",
       " array([46.2043341]),\n",
       " array([49.66491215]),\n",
       " array([51.84935736]),\n",
       " array([54.06779887]),\n",
       " array([55.21590567]),\n",
       " array([55.43031412]),\n",
       " array([55.07880165]),\n",
       " array([54.97312128]),\n",
       " array([54.18830885]),\n",
       " array([53.05623705]),\n",
       " array([50.75926636]),\n",
       " array([49.62168247]),\n",
       " array([46.33251663]),\n",
       " array([44.62224291]),\n",
       " array([42.48336848]),\n",
       " array([41.20092065]),\n",
       " array([39.9934232]),\n",
       " array([38.98178232]),\n",
       " array([38.87060017]),\n",
       " array([39.71689549]),\n",
       " array([40.19203931]),\n",
       " array([40.93986716]),\n",
       " array([42.2297004]),\n",
       " array([44.89671443]),\n",
       " array([46.27436748]),\n",
       " array([48.47270502]),\n",
       " array([49.99933034]),\n",
       " array([51.48311672]),\n",
       " array([52.40002326]),\n",
       " array([52.76639553]),\n",
       " array([52.72472851]),\n",
       " array([52.48601789]),\n",
       " array([51.86091046]),\n",
       " array([50.96633476]),\n",
       " array([49.52184135]),\n",
       " array([48.43909923]),\n",
       " array([46.54855959]),\n",
       " array([45.22486044]),\n",
       " array([43.73721542]),\n",
       " array([42.74372795]),\n",
       " array([41.9109511]),\n",
       " array([41.29899993]),\n",
       " array([41.18582847]),\n",
       " array([41.55182021]),\n",
       " array([42.02402449]),\n",
       " array([42.74056777]),\n",
       " array([43.68121063]),\n",
       " array([45.18863036]),\n",
       " array([46.30333371]),\n",
       " array([47.72322298]),\n",
       " array([48.80478536]),\n",
       " array([49.81044578]),\n",
       " array([50.48725915]),\n",
       " array([50.82418376]),\n",
       " array([50.87125475]),\n",
       " array([50.67356539]),\n",
       " array([50.21977712]),\n",
       " array([49.55723534]),\n",
       " array([48.60690326]),\n",
       " array([47.73798545]),\n",
       " array([46.5543941]),\n",
       " array([45.58504317]),\n",
       " array([44.57318494]),\n",
       " array([43.83400713]),\n",
       " array([43.2465272]),\n",
       " array([42.85210522]),\n",
       " array([42.75816629]),\n",
       " array([42.94256928]),\n",
       " array([43.30417726]),\n",
       " array([43.85259453]),\n",
       " array([44.53688232]),\n",
       " array([45.47301606]),\n",
       " array([46.29822489]),\n",
       " array([47.23518238]),\n",
       " array([47.99998695]),\n",
       " array([48.68739197]),\n",
       " array([49.17178091]),\n",
       " array([49.43826525]),\n",
       " array([49.50014979]),\n",
       " array([49.36212853]),\n",
       " array([49.04411698]),\n",
       " array([48.5698166]),\n",
       " array([47.92949743]),\n",
       " array([47.28019505]),\n",
       " array([46.50005771]),\n",
       " array([45.80570634]),\n",
       " array([45.11589874]),\n",
       " array([44.5807748]),\n",
       " array([44.1653821]),\n",
       " array([43.89921814]),\n",
       " array([43.82550365]),\n",
       " array([43.93066223]),\n",
       " array([44.18711573]),\n",
       " array([44.57899037]),\n",
       " array([45.0679034]),\n",
       " array([45.68143667]),\n",
       " array([46.2720372]),\n",
       " array([46.90170898]),\n",
       " array([47.44002212]),\n",
       " array([47.9128096]),\n",
       " array([48.25502612]),\n",
       " array([48.45337859]),\n",
       " array([48.50807195]),\n",
       " array([48.41642971]),\n",
       " array([48.19653805]),\n",
       " array([47.86300266]),\n",
       " array([47.42591542]),\n",
       " array([46.95718568]),\n",
       " array([46.42856037]),\n",
       " array([45.93636076]),\n",
       " array([45.46247576]),\n",
       " array([45.08081775]),\n",
       " array([44.78747697]),\n",
       " array([44.60293278]),\n",
       " array([44.54628245]),\n",
       " array([44.61069393]),\n",
       " array([44.7874796]),\n",
       " array([45.06046544]),\n",
       " array([45.40460328]),\n",
       " array([45.8178734]),\n",
       " array([46.23408275])]"
      ]
     },
     "execution_count": 72,
     "metadata": {},
     "output_type": "execute_result"
    }
   ],
   "source": [
    "predictions"
   ]
  },
  {
   "cell_type": "code",
   "execution_count": 76,
   "metadata": {},
   "outputs": [
    {
     "data": {
      "text/plain": [
       "168"
      ]
     },
     "execution_count": 76,
     "metadata": {},
     "output_type": "execute_result"
    }
   ],
   "source": [
    "len(predictions)"
   ]
  },
  {
   "cell_type": "code",
   "execution_count": 77,
   "metadata": {},
   "outputs": [
    {
     "data": {
      "image/png": "[encoded data removed]",
      "text/plain": [
       "<Figure size 1080x432 with 1 Axes>"
      ]
     },
     "metadata": {
      "needs_background": "light"
     },
     "output_type": "display_data"
    }
   ],
   "source": [
    "import pandas as pd\n",
    "import numpy as np\n",
    "import matplotlib.pylab as plt\n",
    "from matplotlib import pyplot\n",
    "%matplotlib inline\n",
    "from matplotlib.pylab import rcParams\n",
    "rcParams['figure.figsize'] = 15, 6\n",
    "\n",
    "#pyplot.plot(test, color = 'blue', label='test')   \n",
    "pyplot.plot(predictions, color='green', label='pred')\n",
    "pyplot.show()"
   ]
  },
  {
   "cell_type": "code",
   "execution_count": 1,
   "metadata": {},
   "outputs": [
    {
     "ename": "NameError",
     "evalue": "name 'mean_squared_error' is not defined",
     "output_type": "error",
     "traceback": [
      "\u001b[0;31m---------------------------------------------------------------------------\u001b[0m",
      "\u001b[0;31mNameError\u001b[0m                                 Traceback (most recent call last)",
      "\u001b[0;32m<ipython-input-1-6f94dbd55d86>\u001b[0m in \u001b[0;36m<module>\u001b[0;34m\u001b[0m\n\u001b[1;32m      1\u001b[0m \u001b[0;32mfrom\u001b[0m \u001b[0mmath\u001b[0m \u001b[0;32mimport\u001b[0m \u001b[0msqrt\u001b[0m\u001b[0;34m\u001b[0m\u001b[0;34m\u001b[0m\u001b[0m\n\u001b[0;32m----> 2\u001b[0;31m \u001b[0mrmse\u001b[0m \u001b[0;34m=\u001b[0m \u001b[0msqrt\u001b[0m\u001b[0;34m(\u001b[0m\u001b[0mmean_squared_error\u001b[0m\u001b[0;34m(\u001b[0m\u001b[0mtest\u001b[0m\u001b[0;34m,\u001b[0m \u001b[0mpredictions\u001b[0m\u001b[0;34m)\u001b[0m\u001b[0;34m)\u001b[0m\u001b[0;34m\u001b[0m\u001b[0;34m\u001b[0m\u001b[0m\n\u001b[0m\u001b[1;32m      3\u001b[0m \u001b[0mprint\u001b[0m\u001b[0;34m(\u001b[0m\u001b[0;34m'Mean Squarred Error: %.2f'\u001b[0m\u001b[0;34m%\u001b[0m \u001b[0mrmse\u001b[0m\u001b[0;34m)\u001b[0m\u001b[0;34m\u001b[0m\u001b[0;34m\u001b[0m\u001b[0m\n",
      "\u001b[0;31mNameError\u001b[0m: name 'mean_squared_error' is not defined"
     ]
    }
   ],
   "source": [
    "from math import sqrt\n",
    "rmse = sqrt(mean_squared_error(test, predictions))\n",
    "print('Mean Squarred Error: %.2f'% rmse)"
   ]
  },
  {
   "cell_type": "code",
   "execution_count": 46,
   "metadata": {},
   "outputs": [
    {
     "name": "stdout",
     "output_type": "stream",
     "text": [
      "Collecting pmdarima\n",
      "  Downloading pmdarima-1.8.2-cp38-cp38-win_amd64.whl (596 kB)\n",
      "Requirement already satisfied: scipy>=1.3.2 in c:\\users\\accelerate\\anaconda4\\lib\\site-packages (from pmdarima) (1.5.0)\n",
      "Requirement already satisfied: joblib>=0.11 in c:\\users\\accelerate\\anaconda4\\lib\\site-packages (from pmdarima) (0.16.0)\n",
      "Requirement already satisfied: Cython!=0.29.18,>=0.29 in c:\\users\\accelerate\\anaconda4\\lib\\site-packages (from pmdarima) (0.29.21)\n",
      "Requirement already satisfied: setuptools!=50.0.0,>=38.6.0 in c:\\users\\accelerate\\anaconda4\\lib\\site-packages (from pmdarima) (49.2.0.post20200714)\n",
      "Collecting numpy~=1.19.0\n",
      "  Downloading numpy-1.19.5-cp38-cp38-win_amd64.whl (13.3 MB)\n",
      "Requirement already satisfied: scikit-learn>=0.22 in c:\\users\\accelerate\\anaconda4\\lib\\site-packages (from pmdarima) (0.23.1)\n",
      "Requirement already satisfied: urllib3 in c:\\users\\accelerate\\anaconda4\\lib\\site-packages (from pmdarima) (1.25.9)\n",
      "Requirement already satisfied: statsmodels!=0.12.0,>=0.11 in c:\\users\\accelerate\\anaconda4\\lib\\site-packages (from pmdarima) (0.11.1)\n",
      "Requirement already satisfied: pandas>=0.19 in c:\\users\\accelerate\\anaconda4\\lib\\site-packages (from pmdarima) (1.0.5)\n",
      "Requirement already satisfied: threadpoolctl>=2.0.0 in c:\\users\\accelerate\\anaconda4\\lib\\site-packages (from scikit-learn>=0.22->pmdarima) (2.1.0)\n",
      "Requirement already satisfied: patsy>=0.5 in c:\\users\\accelerate\\anaconda4\\lib\\site-packages (from statsmodels!=0.12.0,>=0.11->pmdarima) (0.5.1)\n",
      "Requirement already satisfied: python-dateutil>=2.6.1 in c:\\users\\accelerate\\anaconda4\\lib\\site-packages (from pandas>=0.19->pmdarima) (2.8.1)\n",
      "Requirement already satisfied: pytz>=2017.2 in c:\\users\\accelerate\\anaconda4\\lib\\site-packages (from pandas>=0.19->pmdarima) (2020.1)\n",
      "Requirement already satisfied: six in c:\\users\\accelerate\\anaconda4\\lib\\site-packages (from patsy>=0.5->statsmodels!=0.12.0,>=0.11->pmdarima) (1.15.0)\n",
      "Installing collected packages: numpy, pmdarima\n",
      "  Attempting uninstall: numpy\n",
      "    Found existing installation: numpy 1.18.5\n",
      "    Uninstalling numpy-1.18.5:\n",
      "      Successfully uninstalled numpy-1.18.5\n"
     ]
    },
    {
     "name": "stderr",
     "output_type": "stream",
     "text": [
      "ERROR: Could not install packages due to an EnvironmentError: [WinError 5] Access is denied: 'C:\\\\Users\\\\accelerate\\\\anaconda4\\\\Lib\\\\site-packages\\\\~umpy\\\\core\\\\_multiarray_tests.cp38-win_amd64.pyd'\n",
      "Consider using the `--user` option or check the permissions.\n",
      "\n"
     ]
    }
   ],
   "source": [
    "!pip install pmdarima"
   ]
  },
  {
   "cell_type": "code",
   "execution_count": 44,
   "metadata": {},
   "outputs": [
    {
     "ename": "ModuleNotFoundError",
     "evalue": "No module named 'pmdarima'",
     "output_type": "error",
     "traceback": [
      "\u001b[1;31m---------------------------------------------------------------------------\u001b[0m",
      "\u001b[1;31mModuleNotFoundError\u001b[0m                       Traceback (most recent call last)",
      "\u001b[1;32m<ipython-input-44-9bd52c193764>\u001b[0m in \u001b[0;36m<module>\u001b[1;34m\u001b[0m\n\u001b[1;32m----> 1\u001b[1;33m \u001b[1;32mfrom\u001b[0m \u001b[0mpmdarima\u001b[0m\u001b[1;33m.\u001b[0m\u001b[0marima\u001b[0m \u001b[1;32mimport\u001b[0m \u001b[0mauto_arima\u001b[0m\u001b[1;33m\u001b[0m\u001b[1;33m\u001b[0m\u001b[0m\n\u001b[0m\u001b[0;32m      2\u001b[0m \u001b[1;33m\u001b[0m\u001b[0m\n\u001b[0;32m      3\u001b[0m arima_model = auto_arima(train, start_p=1, start_q=1, d=1, max_p=4, max_q=4, start_P=1, \n\u001b[0;32m      4\u001b[0m                          \u001b[0mD\u001b[0m\u001b[1;33m=\u001b[0m\u001b[1;32mNone\u001b[0m\u001b[1;33m,\u001b[0m \u001b[0mstart_Q\u001b[0m\u001b[1;33m=\u001b[0m\u001b[1;36m1\u001b[0m\u001b[1;33m,\u001b[0m \u001b[0mmax_P\u001b[0m\u001b[1;33m=\u001b[0m\u001b[1;36m4\u001b[0m\u001b[1;33m,\u001b[0m \u001b[0mmax_D\u001b[0m\u001b[1;33m=\u001b[0m\u001b[1;36m1\u001b[0m\u001b[1;33m,\u001b[0m \u001b[0mmax_Q\u001b[0m\u001b[1;33m=\u001b[0m\u001b[1;36m4\u001b[0m\u001b[1;33m,\u001b[0m \u001b[0mmax_order\u001b[0m\u001b[1;33m=\u001b[0m\u001b[1;36m5\u001b[0m\u001b[1;33m,\u001b[0m \u001b[0mm\u001b[0m\u001b[1;33m=\u001b[0m\u001b[1;36m1\u001b[0m\u001b[1;33m,\u001b[0m\u001b[1;33m\u001b[0m\u001b[1;33m\u001b[0m\u001b[0m\n\u001b[0;32m      5\u001b[0m                          \u001b[0mseasonal\u001b[0m\u001b[1;33m=\u001b[0m\u001b[1;32mTrue\u001b[0m\u001b[1;33m,\u001b[0m \u001b[0mstationary\u001b[0m\u001b[1;33m=\u001b[0m\u001b[1;32mFalse\u001b[0m\u001b[1;33m,\u001b[0m \u001b[0minformation_criterion\u001b[0m\u001b[1;33m=\u001b[0m\u001b[1;34m'aic'\u001b[0m\u001b[1;33m,\u001b[0m\u001b[1;33m\u001b[0m\u001b[1;33m\u001b[0m\u001b[0m\n",
      "\u001b[1;31mModuleNotFoundError\u001b[0m: No module named 'pmdarima'"
     ]
    }
   ],
   "source": [
    "from pmdarima.arima import auto_arima\n",
    "\n",
    "arima_model = auto_arima(train, start_p=1, start_q=1, d=1, max_p=4, max_q=4, start_P=1, \n",
    "                         D=None, start_Q=1, max_P=4, max_D=1, max_Q=4, max_order=5, m=1, \n",
    "                         seasonal=True, stationary=False, information_criterion='aic', \n",
    "                         alpha=0.05, test='kpss', seasonal_test='ocsb', stepwise=True, \n",
    "                         n_jobs=1, start_params=None, trend=None, method='lbfgs', \n",
    "                         maxiter=50, offset_test_args=None, seasonal_test_args=None, \n",
    "                         suppress_warnings=True, error_action='trace', trace=False, \n",
    "                         random=False, random_state=None, n_fits=10, \n",
    "                         return_valid_fits=False, out_of_sample_size=0, \n",
    "                         scoring='mse', scoring_args=None, with_intercept='auto', \n",
    "                         sarimax_kwargs=None)\n",
    "\n",
    "arima_model.summary()"
   ]
  },
  {
   "cell_type": "code",
   "execution_count": 43,
   "metadata": {},
   "outputs": [
    {
     "ename": "NameError",
     "evalue": "name 'arima_model' is not defined",
     "output_type": "error",
     "traceback": [
      "\u001b[1;31m---------------------------------------------------------------------------\u001b[0m",
      "\u001b[1;31mNameError\u001b[0m                                 Traceback (most recent call last)",
      "\u001b[1;32m<ipython-input-43-069efff96e35>\u001b[0m in \u001b[0;36m<module>\u001b[1;34m\u001b[0m\n\u001b[1;32m----> 1\u001b[1;33m \u001b[0mprediction_arima_model\u001b[0m \u001b[1;33m=\u001b[0m \u001b[0mpd\u001b[0m\u001b[1;33m.\u001b[0m\u001b[0mDataFrame\u001b[0m\u001b[1;33m(\u001b[0m\u001b[0marima_model\u001b[0m\u001b[1;33m.\u001b[0m\u001b[0mpredict\u001b[0m\u001b[1;33m(\u001b[0m\u001b[0mn_periods\u001b[0m\u001b[1;33m=\u001b[0m\u001b[0mlen\u001b[0m\u001b[1;33m(\u001b[0m\u001b[0mtest\u001b[0m\u001b[1;33m)\u001b[0m\u001b[1;33m)\u001b[0m\u001b[1;33m)\u001b[0m\u001b[1;33m\u001b[0m\u001b[1;33m\u001b[0m\u001b[0m\n\u001b[0m\u001b[0;32m      2\u001b[0m \u001b[0mprediction_arima_model\u001b[0m\u001b[1;33m.\u001b[0m\u001b[0mcolumns\u001b[0m \u001b[1;33m=\u001b[0m \u001b[1;33m[\u001b[0m\u001b[1;34m'OutboundUtilzation (%'\u001b[0m\u001b[1;33m]\u001b[0m\u001b[1;33m\u001b[0m\u001b[1;33m\u001b[0m\u001b[0m\n\u001b[0;32m      3\u001b[0m \u001b[1;33m\u001b[0m\u001b[0m\n\u001b[0;32m      4\u001b[0m \u001b[0mnp\u001b[0m\u001b[1;33m.\u001b[0m\u001b[0mexp\u001b[0m\u001b[1;33m(\u001b[0m\u001b[0mprediction_arima_model\u001b[0m\u001b[1;33m)\u001b[0m\u001b[1;33m\u001b[0m\u001b[1;33m\u001b[0m\u001b[0m\n",
      "\u001b[1;31mNameError\u001b[0m: name 'arima_model' is not defined"
     ]
    }
   ],
   "source": [
    "prediction_arima_model = pd.DataFrame(arima_model.predict(n_periods=len(test)))\n",
    "prediction_arima_model.columns = ['OutboundUtilzation (%']\n",
    "\n",
    "np.exp(prediction_arima_model)"
   ]
  },
  {
   "cell_type": "code",
   "execution_count": null,
   "metadata": {},
   "outputs": [],
   "source": []
  },
  {
   "cell_type": "code",
   "execution_count": null,
   "metadata": {},
   "outputs": [],
   "source": []
  },
  {
   "cell_type": "code",
   "execution_count": null,
   "metadata": {},
   "outputs": [],
   "source": []
  },
  {
   "cell_type": "code",
   "execution_count": null,
   "metadata": {},
   "outputs": [],
   "source": []
  },
  {
   "cell_type": "code",
   "execution_count": null,
   "metadata": {},
   "outputs": [],
   "source": []
  },
  {
   "cell_type": "code",
   "execution_count": 54,
   "metadata": {},
   "outputs": [],
   "source": [
    "def evaluate_arima_model(X, arima_order):\n",
    "\t# prepare training dataset\n",
    "\ttrain_size = int(len(X) * 0.8)\n",
    "\ttrain, test = X[0:train_size], X[train_size:]\n",
    "\thistory = [x for x in train]\n",
    "\t# make predictions\n",
    "\tpredictions = list()\n",
    "\tfor t in range(len(test)):\n",
    "\t\tmodel = ARIMA(history, order=arima_order)\n",
    "\t\tmodel_fit = model.fit(disp=0)\n",
    "\t\tyhat = model_fit.forecast()[0]\n",
    "\t\tpredictions.append(yhat)\n",
    "\t\thistory.append(test[t])\n",
    "\t# calculate out of sample error\n",
    "\terror = mean_squared_error(test, predictions)\n",
    "\treturn error\n",
    "\n",
    "# evaluate combinations of p, d and q values for an ARIMA model\n",
    "def evaluate_models(dataset, p_values, d_values, q_values):\n",
    "    dataset = dataset.astype('float32')\n",
    "    best_score, best_cfg = float(\"inf\"), None\n",
    "    for p in p_values:\n",
    "        for d in d_values:\n",
    "            for q in q_values:\n",
    "                order = (p,d,q)\n",
    "                try:\n",
    "                    mse = evaluate_arima_model(dataset, order)\n",
    "                    if mse < best_score:\n",
    "                        best_score, best_cfg = mse, order\n",
    "                    print('ARIMA%s MSE=%.3f' % (order,mse))\n",
    "                except:\n",
    "                    continue\n",
    "    print('Best ARIMA%s MSE=%.3f' % (best_cfg, best_score))"
   ]
  },
  {
   "cell_type": "code",
   "execution_count": null,
   "metadata": {},
   "outputs": [
    {
     "name": "stdout",
     "output_type": "stream",
     "text": [
      "ARIMA(0, 1, 1) MSE=203.986\n",
      "ARIMA(0, 1, 2) MSE=204.988\n",
      "ARIMA(0, 1, 3) MSE=208.427\n",
      "ARIMA(1, 1, 1) MSE=199.289\n",
      "ARIMA(1, 1, 2) MSE=197.766\n",
      "ARIMA(1, 1, 3) MSE=197.888\n",
      "ARIMA(2, 1, 1) MSE=197.771\n",
      "ARIMA(2, 1, 2) MSE=198.469\n",
      "ARIMA(2, 1, 3) MSE=198.239\n",
      "ARIMA(3, 1, 1) MSE=197.922\n"
     ]
    }
   ],
   "source": [
    "evaluate_models(train, [0,1,2,3], [1], [1,2,3])"
   ]
  },
  {
   "cell_type": "code",
   "execution_count": null,
   "metadata": {},
   "outputs": [],
   "source": []
  }
 ],
 "metadata": {
  "kernelspec": {
   "display_name": "Python 3",
   "language": "python",
   "name": "python3"
  },
  "language_info": {
   "codemirror_mode": {
    "name": "ipython",
    "version": 3
   },
   "file_extension": ".py",
   "mimetype": "text/x-python",
   "name": "python",
   "nbconvert_exporter": "python",
   "pygments_lexer": "ipython3",
   "version": "3.8.8"
  }
 },
 "nbformat": 4,
 "nbformat_minor": 4
}
